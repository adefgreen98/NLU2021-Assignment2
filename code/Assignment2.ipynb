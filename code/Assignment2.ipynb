{
  "nbformat": 4,
  "nbformat_minor": 0,
  "metadata": {
    "colab": {
      "name": "Assignment2.ipynb",
      "provenance": [],
      "collapsed_sections": [
        "yY_NwBjUGRjS",
        "BEAFCx3MKv7K",
        "fy02NlhJL1zl",
        "vbgZAI02v0EX"
      ],
      "authorship_tag": "ABX9TyMAXBDDpZPewOQvLvJYfqQS",
      "include_colab_link": true
    },
    "kernelspec": {
      "name": "python3",
      "display_name": "Python 3"
    },
    "language_info": {
      "name": "python"
    }
  },
  "cells": [
    {
      "cell_type": "markdown",
      "metadata": {
        "id": "view-in-github",
        "colab_type": "text"
      },
      "source": [
        "<a href=\"https://colab.research.google.com/github/adefgreen98/NLU2021-Assignment2/blob/main/code/Assignment2.ipynb\" target=\"_parent\"><img src=\"https://colab.research.google.com/assets/colab-badge.svg\" alt=\"Open In Colab\"/></a>"
      ]
    },
    {
      "cell_type": "markdown",
      "metadata": {
        "id": "BbPe1_Qa2mDL"
      },
      "source": [
        "# Natural Language Understanding 2021 - Assignment 2: NERs & Dependency Parsing\n",
        "\n",
        "_Federico Pedeni, 223993_"
      ]
    },
    {
      "cell_type": "markdown",
      "metadata": {
        "id": "yY_NwBjUGRjS"
      },
      "source": [
        "### Setup\n",
        "\n",
        "The following cells are needed in order to perform automatic creation of the correct directory structure. Please deactivate it in case this is not desired."
      ]
    },
    {
      "cell_type": "code",
      "metadata": {
        "id": "2kRn7qzwIuHj",
        "colab": {
          "base_uri": "https://localhost:8080/"
        },
        "outputId": "6cb41973-edbd-4612-f4e2-96e1833bdc2c"
      },
      "source": [
        "!git clone https://github.com/adefgreen98/NLU2021-Assignment2.git\n",
        "!mv NLU2021-Assignment2/code/conll.py ./"
      ],
      "execution_count": 1,
      "outputs": [
        {
          "output_type": "stream",
          "text": [
            "fatal: destination path 'NLU2021-Assignment2' already exists and is not an empty directory.\n",
            "mv: cannot stat 'NLU2021-Assignment2/code/conll.py': No such file or directory\n"
          ],
          "name": "stdout"
        }
      ]
    },
    {
      "cell_type": "code",
      "metadata": {
        "id": "gYswNObrNYSu"
      },
      "source": [
        "import zipfile\n",
        "import os\n",
        "\n",
        "# Extract assignment data\n",
        "if not os.path.exists('data'):\n",
        "    with zipfile.ZipFile(\"NLU2021-Assignment2/data/conll2003.zip\") as zipref:\n",
        "        zipref.extractall('data')"
      ],
      "execution_count": 2,
      "outputs": []
    },
    {
      "cell_type": "markdown",
      "metadata": {
        "id": "BEAFCx3MKv7K"
      },
      "source": [
        "### Requirements"
      ]
    },
    {
      "cell_type": "code",
      "metadata": {
        "id": "JRzLNxaCHvJs"
      },
      "source": [
        "# Needed to update spacy in Google Colab\n",
        "\n",
        "# !pip install --upgrade spacy"
      ],
      "execution_count": 3,
      "outputs": []
    },
    {
      "cell_type": "code",
      "metadata": {
        "id": "tSMwml0tGTOm"
      },
      "source": [
        "import itertools \n",
        "\n",
        "import spacy\n",
        "import pandas as pd\n",
        "import seaborn as sn\n",
        "import sklearn\n",
        "from sklearn.metrics import classification_report\n",
        "\n",
        "from conll import *"
      ],
      "execution_count": 4,
      "outputs": []
    },
    {
      "cell_type": "code",
      "metadata": {
        "colab": {
          "base_uri": "https://localhost:8080/"
        },
        "id": "XIRoEvXoQD8j",
        "outputId": "9081d43d-1a2d-4fd8-89db-eaa2df73a4d2"
      },
      "source": [
        "\n",
        "!python -m spacy download en_core_web_sm\n",
        "\n",
        "if spacy.__version__.startswith('3'):\n",
        "    nlp = spacy.load('en_core_web_sm')\n",
        "else:\n",
        "    nlp = spacy.load('en')"
      ],
      "execution_count": 5,
      "outputs": [
        {
          "output_type": "stream",
          "text": [
            "Requirement already satisfied: en_core_web_sm==2.2.5 from https://github.com/explosion/spacy-models/releases/download/en_core_web_sm-2.2.5/en_core_web_sm-2.2.5.tar.gz#egg=en_core_web_sm==2.2.5 in /usr/local/lib/python3.7/dist-packages (2.2.5)\n",
            "Requirement already satisfied: spacy>=2.2.2 in /usr/local/lib/python3.7/dist-packages (from en_core_web_sm==2.2.5) (2.2.4)\n",
            "Requirement already satisfied: plac<1.2.0,>=0.9.6 in /usr/local/lib/python3.7/dist-packages (from spacy>=2.2.2->en_core_web_sm==2.2.5) (1.1.3)\n",
            "Requirement already satisfied: preshed<3.1.0,>=3.0.2 in /usr/local/lib/python3.7/dist-packages (from spacy>=2.2.2->en_core_web_sm==2.2.5) (3.0.5)\n",
            "Requirement already satisfied: tqdm<5.0.0,>=4.38.0 in /usr/local/lib/python3.7/dist-packages (from spacy>=2.2.2->en_core_web_sm==2.2.5) (4.41.1)\n",
            "Requirement already satisfied: numpy>=1.15.0 in /usr/local/lib/python3.7/dist-packages (from spacy>=2.2.2->en_core_web_sm==2.2.5) (1.19.5)\n",
            "Requirement already satisfied: catalogue<1.1.0,>=0.0.7 in /usr/local/lib/python3.7/dist-packages (from spacy>=2.2.2->en_core_web_sm==2.2.5) (1.0.0)\n",
            "Requirement already satisfied: blis<0.5.0,>=0.4.0 in /usr/local/lib/python3.7/dist-packages (from spacy>=2.2.2->en_core_web_sm==2.2.5) (0.4.1)\n",
            "Requirement already satisfied: srsly<1.1.0,>=1.0.2 in /usr/local/lib/python3.7/dist-packages (from spacy>=2.2.2->en_core_web_sm==2.2.5) (1.0.5)\n",
            "Requirement already satisfied: wasabi<1.1.0,>=0.4.0 in /usr/local/lib/python3.7/dist-packages (from spacy>=2.2.2->en_core_web_sm==2.2.5) (0.8.2)\n",
            "Requirement already satisfied: setuptools in /usr/local/lib/python3.7/dist-packages (from spacy>=2.2.2->en_core_web_sm==2.2.5) (56.0.0)\n",
            "Requirement already satisfied: murmurhash<1.1.0,>=0.28.0 in /usr/local/lib/python3.7/dist-packages (from spacy>=2.2.2->en_core_web_sm==2.2.5) (1.0.5)\n",
            "Requirement already satisfied: thinc==7.4.0 in /usr/local/lib/python3.7/dist-packages (from spacy>=2.2.2->en_core_web_sm==2.2.5) (7.4.0)\n",
            "Requirement already satisfied: cymem<2.1.0,>=2.0.2 in /usr/local/lib/python3.7/dist-packages (from spacy>=2.2.2->en_core_web_sm==2.2.5) (2.0.5)\n",
            "Requirement already satisfied: requests<3.0.0,>=2.13.0 in /usr/local/lib/python3.7/dist-packages (from spacy>=2.2.2->en_core_web_sm==2.2.5) (2.23.0)\n",
            "Requirement already satisfied: importlib-metadata>=0.20; python_version < \"3.8\" in /usr/local/lib/python3.7/dist-packages (from catalogue<1.1.0,>=0.0.7->spacy>=2.2.2->en_core_web_sm==2.2.5) (3.10.1)\n",
            "Requirement already satisfied: idna<3,>=2.5 in /usr/local/lib/python3.7/dist-packages (from requests<3.0.0,>=2.13.0->spacy>=2.2.2->en_core_web_sm==2.2.5) (2.10)\n",
            "Requirement already satisfied: certifi>=2017.4.17 in /usr/local/lib/python3.7/dist-packages (from requests<3.0.0,>=2.13.0->spacy>=2.2.2->en_core_web_sm==2.2.5) (2020.12.5)\n",
            "Requirement already satisfied: chardet<4,>=3.0.2 in /usr/local/lib/python3.7/dist-packages (from requests<3.0.0,>=2.13.0->spacy>=2.2.2->en_core_web_sm==2.2.5) (3.0.4)\n",
            "Requirement already satisfied: urllib3!=1.25.0,!=1.25.1,<1.26,>=1.21.1 in /usr/local/lib/python3.7/dist-packages (from requests<3.0.0,>=2.13.0->spacy>=2.2.2->en_core_web_sm==2.2.5) (1.24.3)\n",
            "Requirement already satisfied: typing-extensions>=3.6.4; python_version < \"3.8\" in /usr/local/lib/python3.7/dist-packages (from importlib-metadata>=0.20; python_version < \"3.8\"->catalogue<1.1.0,>=0.0.7->spacy>=2.2.2->en_core_web_sm==2.2.5) (3.7.4.3)\n",
            "Requirement already satisfied: zipp>=0.5 in /usr/local/lib/python3.7/dist-packages (from importlib-metadata>=0.20; python_version < \"3.8\"->catalogue<1.1.0,>=0.0.7->spacy>=2.2.2->en_core_web_sm==2.2.5) (3.4.1)\n",
            "\u001b[38;5;2m✔ Download and installation successful\u001b[0m\n",
            "You can now load the model via spacy.load('en_core_web_sm')\n"
          ],
          "name": "stdout"
        }
      ]
    },
    {
      "cell_type": "markdown",
      "metadata": {
        "id": "fy02NlhJL1zl"
      },
      "source": [
        "### Named entity lanbels conversion from SpaCy format to CoNLL format\n",
        "\n",
        "SpaCy uses a much wider set of labels compared to the general CoNLL 4 tags. So, in order to evaluate SpaCy's parser performance, SpaCy entity tags must be converted to the CoNLL format. At this purpose, a dictionary containing a label map is declared below, which is going to be used over the execution. \n",
        "\n",
        "However, the assignment of new labels has been arbitrarily defined, since there is no official information on how to perform it. The map has been created following general information on CoNLL 2003 labels that can be found [here](https://www.clips.uantwerpen.be/conll2003/ner/annotation.txt). \n",
        "\n",
        "The following cell has been used to gather information for label conversions."
      ]
    },
    {
      "cell_type": "code",
      "metadata": {
        "colab": {
          "base_uri": "https://localhost:8080/"
        },
        "id": "RAeb10wJWasZ",
        "outputId": "c4370266-54c4-4872-c334-ed5ef12e1cf5"
      },
      "source": [
        "if spacy.__version__.startswith('3'):\n",
        "    for el in nlp.meta[\"labels\"][\"ner\"]:\n",
        "        print(el, \": \", spacy.explain(el))\n",
        "else:\n",
        "    for el in nlp.entity.labels:\n",
        "        print(el, \": \", spacy.explain(el))\n",
        "    \n",
        "for el in nlp.meta[\"labels\"][\"ner\"]:\n",
        "    print(el, \": \", spacy.explain(el))"
      ],
      "execution_count": 6,
      "outputs": [
        {
          "output_type": "stream",
          "text": [
            "CARDINAL :  Numerals that do not fall under another type\n",
            "DATE :  Absolute or relative dates or periods\n",
            "EVENT :  Named hurricanes, battles, wars, sports events, etc.\n",
            "FAC :  Buildings, airports, highways, bridges, etc.\n",
            "GPE :  Countries, cities, states\n",
            "LANGUAGE :  Any named language\n",
            "LAW :  Named documents made into laws.\n",
            "LOC :  Non-GPE locations, mountain ranges, bodies of water\n",
            "MONEY :  Monetary values, including unit\n",
            "NORP :  Nationalities or religious or political groups\n",
            "ORDINAL :  \"first\", \"second\", etc.\n",
            "ORG :  Companies, agencies, institutions, etc.\n",
            "PERCENT :  Percentage, including \"%\"\n",
            "PERSON :  People, including fictional\n",
            "PRODUCT :  Objects, vehicles, foods, etc. (not services)\n",
            "QUANTITY :  Measurements, as of weight or distance\n",
            "TIME :  Times smaller than a day\n",
            "WORK_OF_ART :  Titles of books, songs, etc.\n",
            "CARDINAL :  Numerals that do not fall under another type\n",
            "DATE :  Absolute or relative dates or periods\n",
            "EVENT :  Named hurricanes, battles, wars, sports events, etc.\n",
            "FAC :  Buildings, airports, highways, bridges, etc.\n",
            "GPE :  Countries, cities, states\n",
            "LANGUAGE :  Any named language\n",
            "LAW :  Named documents made into laws.\n",
            "LOC :  Non-GPE locations, mountain ranges, bodies of water\n",
            "MONEY :  Monetary values, including unit\n",
            "NORP :  Nationalities or religious or political groups\n",
            "ORDINAL :  \"first\", \"second\", etc.\n",
            "ORG :  Companies, agencies, institutions, etc.\n",
            "PERCENT :  Percentage, including \"%\"\n",
            "PERSON :  People, including fictional\n",
            "PRODUCT :  Objects, vehicles, foods, etc. (not services)\n",
            "QUANTITY :  Measurements, as of weight or distance\n",
            "TIME :  Times smaller than a day\n",
            "WORK_OF_ART :  Titles of books, songs, etc.\n"
          ],
          "name": "stdout"
        }
      ]
    },
    {
      "cell_type": "code",
      "metadata": {
        "id": "K620kf6_L0rE"
      },
      "source": [
        "\n",
        "# Labelmaps converted to CoNLL according to https://www.clips.uantwerpen.be/conll2003/ner/annotation.txt\n",
        "labelmap = {\n",
        "    'CARDINAL': 'out',\n",
        "    'DATE': 'out',\n",
        "    'EVENT': 'MISC',\n",
        "    'FAC': 'LOC',\n",
        "    'GPE': 'LOC',\n",
        "    'LANGUAGE': 'MISC',\n",
        "    'LAW': 'out',\n",
        "    'LOC': 'LOC',\n",
        "    'MONEY': 'out',\n",
        "    'NORP': 'MISC',\n",
        "    'ORDINAL': 'out',\n",
        "    'ORG': 'ORG',\n",
        "    'PERCENT': 'out',\n",
        "    'PERSON': 'PER',\n",
        "    'PRODUCT': 'out',\n",
        "    'QUANTITY': 'out',\n",
        "    'TIME': 'out',\n",
        "    'WORK_OF_ART': 'out',\n",
        "    '': 'out' # label for tokens that are not part of entities\n",
        "}\n",
        "\n",
        "def convert_tag(tk:spacy.tokens.Token):\n",
        "    return (tk.ent_iob_ + ('-' + labelmap[tk.ent_type_])) if labelmap[tk.ent_type_] != 'out' else 'O'"
      ],
      "execution_count": 7,
      "outputs": []
    },
    {
      "cell_type": "markdown",
      "metadata": {
        "id": "vbgZAI02v0EX"
      },
      "source": [
        "### Dataset Loading\n",
        "\n",
        "For utility reasons, a custom loading function has been developed. It basically does the same thing that could do the `load()` method of `conll.py`, that is to return a list of lists representing sentences, each one containing tuples of `(token, IOBtag-label)` for tokens in the sentence. However, it also directly gets the entities per each sentence while cycling over the text dataset: this is done thanks to a temporary entity object, that is appended only when it is closed, that happens to be when either there is a new entity or next token is not part of any entity. If two components of the same entity do not share the same label, an exception is raised."
      ]
    },
    {
      "cell_type": "code",
      "metadata": {
        "id": "rXX04z9hF5NB"
      },
      "source": [
        "# Format of dataset: <TOKEN> <POS> <IOB part-of speech tag> <TAG>\n",
        "\n",
        "def load_dataset(mode):\n",
        "    res = {\n",
        "        'sentences': [],\n",
        "        'ners': []\n",
        "    }\n",
        "    pth = f'data/{mode}.txt'\n",
        "    \n",
        "    idx = 0\n",
        "\n",
        "    tmpsentence = []\n",
        "    tmpentity = []\n",
        "    tmp_entities_in_sentence = []\n",
        "\n",
        "    tmpmisc = None\n",
        "\n",
        "    with open(pth, 'rt') as file:\n",
        "        for line in file:\n",
        "            idx += 1\n",
        "            if line == '\\n': # arrived at the end of a sentence\n",
        "                if len(tmpsentence) > 0:\n",
        "                    # flushes the current sentence\n",
        "                    res['sentences'].append(' '.join(tmpsentence))\n",
        "                    tmpsentence = []\n",
        "\n",
        "                    # flushes the last entity in entity list for sentence\n",
        "                    if len(tmpentity) > 0: tmp_entities_in_sentence.append(tmpentity)\n",
        "                    tmpentity = []\n",
        "                    \n",
        "                    # flushes entity list\n",
        "                    res['ners'].append(tmp_entities_in_sentence)\n",
        "                    tmp_entities_in_sentence = []\n",
        "                continue\n",
        "            elif line.startswith('-DOCSTART-'): # excludes lines separating documents\n",
        "                continue\n",
        "            else:\n",
        "                if len(line.split()) != 4: \n",
        "                    print(f\"Error: line with size {len(line.split())} at index {index}\")\n",
        "                    \n",
        "                token, pos, tag1, tag2 = line.split() \n",
        "                tmpsentence.append(token)\n",
        "\n",
        "                if tag2.startswith('B'): # starts a new entity\n",
        "                    if len(tmpentity) > 0: # another one is already cached, so it must be appended\n",
        "                        tmp_entities_in_sentence.append(tmpentity)\n",
        "                        tmpentity = [(token, tag2)]\n",
        "                    else:\n",
        "                        tmpentity = [(token, tag2)]\n",
        "                elif tag2.startswith('I'): # continues current entity\n",
        "                    currtag = tag2.split('-')[1]\n",
        "                    oldtag =  tmpentity[-1][1].split('-')[1]\n",
        "                    if currtag != oldtag: \n",
        "                        raise RuntimeError(f\"not corresponding tags at index {idx}; tags are '{currtag}' (new) and '{oldtag}' (old)\")\n",
        "                    tmpentity.append((token, tag2))\n",
        "                elif tag2.startswith('O'): \n",
        "                    if len(tmpentity) > 0: tmp_entities_in_sentence.append(tmpentity)\n",
        "                    tmpentity = [(token, tag2)]\n",
        "                else:\n",
        "                    print(f\"Error: wrong tag detected at line {idx}, line: {line.encode()}\")\n",
        "\n",
        "    return res\n"
      ],
      "execution_count": 8,
      "outputs": []
    },
    {
      "cell_type": "code",
      "metadata": {
        "id": "hUQ-GcvkOX3u"
      },
      "source": [
        "dataset = load_dataset('test')"
      ],
      "execution_count": 9,
      "outputs": []
    },
    {
      "cell_type": "markdown",
      "metadata": {
        "id": "_n7M1kZrn8zo"
      },
      "source": [
        "### Retokenization\n",
        "\n",
        "In this section it is declared a **retokenizing** method that from a `Doc` object returns a sentence parsed in CoNLL format: this is a list of tuples with token text and its IOB tag plus the label. However, parsed tokens do not match exactly original SpaCy tokens: SpaCy tokenization is different from the dataset's one, mainly because the former tends to split dates and tokens containing a `-` symbol in multiple parts, giving them also new IOB tag and label which are inconsistent with the latter's. Thus, inside `retokenize()` it is kept a temporary word object, which stores tokens' joined texts and the label for the current token; this is done thanks to the `Token.whitespace_` attribute, that determines when a token should be considered as over. \n",
        "\n",
        "The process of separation is the following one: whenever there is no whitespace between two tokens, that `Token.whitespace_` is the empty string and thus has length 0, the current token should be appended to the temporary word text; if its label is different from the temporary one, an exception is raised, but this should not happen when using `train.txt` and `test.txt`. The temporary entity is considered closed, and thus appended at the sentence list, in 2 cases:\n",
        "- current token is the last of the sentence, so that if the entity is not appended then it is lost;\n",
        "- current token is the last of the temporary word, thus there is a non-empty whitespace after it and the current entity is not empty (otherwise it would be a common text token).\n",
        "\n",
        "*Note*: the core of this retokenization happens to be in the `continue` at the middle of the cell; it allows to skip the appending part at the end of the `for` loop when an entity is not closed yet. The cases in which it is excecuted are the ones where the subsequent whitespace has zero length but the token is not the last one of the sentence, so that it could be that the next one is part of the current word too.\n",
        "\n",
        "This function also does 2 more things: for first, it directly converts SpaCy labels to corresponding CoNLL labels, while appending tokens to the sentence list. Then, it also keeps an **index conversion table**, used to map old SpaCy indexes to their correspondent index in the new CoNLL-like tokenization; this will be used in Exercise 3.\n"
      ]
    },
    {
      "cell_type": "code",
      "metadata": {
        "id": "m7LPacoYhiJo"
      },
      "source": [
        "\n",
        "def retokenize(doc:spacy.tokens.Doc):\n",
        "    parsed_sent = []\n",
        "\n",
        "    # Index conversion table from token.i to CoNLL sentence index (needed for ex3)\n",
        "    # NOTE: Index-mapping is performed in an early-manner, so that it always follows actual addition to entity (ie: += tk.text) \n",
        "    #       but happens befor actual list.append() of the entity, so that the target index is increased only when list is modified\n",
        "    index_conversion_table = {}\n",
        "\n",
        "    # Multi-token word container\n",
        "    tmpword = ['', None]\n",
        "\n",
        "    for tk in doc:\n",
        "        # Init. variable that will be either token text or multi-token-entity concatenated tokens\n",
        "        text = None\n",
        "        \n",
        "        # label converted according to CoNLL standard (or 'O' when is not part of an entity)\n",
        "        conv_label = convert_tag(tk)\n",
        "\n",
        "        ### MULTI-TOKEN word JOIN ###\n",
        "        if len(tk.whitespace_) == 0: # current multi-token word must be expanded\n",
        "            tmpword[0] += tk.text\n",
        "            index_conversion_table[tk.i] = len(parsed_sent)\n",
        "            \n",
        "            if tmpword[1] is None: tmpword[1] = conv_label \n",
        "            else:\n",
        "                if tmpword[1] != conv_label:\n",
        "                    if tmpword[1] == 'O' or conv_label == 'O':\n",
        "                        pass\n",
        "                    else:\n",
        "                        if tmpword[1].split('-')[1] != conv_label.split('-')[1]: raise ValueError(\"not matching labels for sentence {}\".format(sent))\n",
        "            \n",
        "            if tk.i == (len(doc) - 1): # last multi-token entity of the sentence\n",
        "                if len(tmpword[0]) > 0:\n",
        "                    text = tmpword[0]\n",
        "                    conv_label = tmpword[1]\n",
        "                else:\n",
        "                    text = tk.text\n",
        "                    conv_label = conv_label\n",
        "                tmpword = ['', None]\n",
        "            else:\n",
        "                ##### NOTE: this is the core that allows to jump to next token without flushing tmpword immediately!! #####\n",
        "                continue \n",
        "        else:\n",
        "            if len(tmpword[0]) > 0: # cached multi-token entity is finished\n",
        "                tmpword[0] += tk.text\n",
        "                index_conversion_table[tk.i] = len(parsed_sent)\n",
        "\n",
        "                if tmpword[1] != conv_label:\n",
        "                    # since there are very very few (5 in test.txt) cases where multi-token entities have different tags, a rough conversion is simply applied \n",
        "                    conv_label = tmpword[1] \n",
        "                            \n",
        "                text = tmpword[0]\n",
        "                conv_label = tmpword[1]\n",
        "                tmpword = ['', None]\n",
        "            else: # no multi-token entity cached\n",
        "                text = tk.text\n",
        "                index_conversion_table[tk.i] = len(parsed_sent)\n",
        "                \n",
        "                conv_label = conv_label\n",
        "        \n",
        "        \n",
        "        parsed_sent.append((text, conv_label))\n",
        "    \n",
        "    return parsed_sent, index_conversion_table\n",
        "\n"
      ],
      "execution_count": 10,
      "outputs": []
    },
    {
      "cell_type": "markdown",
      "metadata": {
        "id": "XDEWQrv4B_V9"
      },
      "source": [
        "### Note on Exercises\n",
        "\n",
        "In the following part of this notebook are presented the functions to solve the exercises. They are all designed to take as input one `Doc` object, so that they can be executed independently during the same loop: since SpaCy parsing requires some time, it is convenient to perform it just one time per sentence and then store results in separate objects."
      ]
    },
    {
      "cell_type": "markdown",
      "metadata": {
        "id": "dG7mczCu4eRP"
      },
      "source": [
        "### 1) Evaluate spaCy NER model using CoNLL evaluation script on CoNLL 2003 data \n",
        "\n",
        "For first, this cell creates a map from combined IOB tags and labels to a fixed set of indices: this is needed because `sklearn.metrics.classification_report()` only accepts list of class-indexes as input. \n",
        "\n",
        "After that, it comes the main part of this exercise, which is the function to obtain metrics by confronting SpaCy hypotheses with ground truths. It initially creates 2 lists for the ground truth, where the entity list of the current sentence is flattened to obtain tokens and labels indexed in a handy way. This is needed because of the custom load function, which returns tags for entities already grouped in the second list. \n",
        "\n",
        "Then, it retokenizes the `Doc` as explained above, discarding the index conversion table; finally, for each sentence it stores in two separate lists token-level predictions and ground truths, while cycling jointly over parsed sentence and ground truth references. In case of size mismatch, it throws an error, but it has not been shown neither in `training.txt` nor in `test.txt` files. In the meantime, it also converts labels to unique indexes so that they can be managed by the classification function.\n",
        "\n",
        "Thanks to the retokenizing, both results for the first and the second part of this exercise are produced: the first is the result of the `classification_report()` function, while the second directly uses parsed sentences lists as they are returned by this function."
      ]
    },
    {
      "cell_type": "code",
      "metadata": {
        "id": "Aut0HE6FoAeN"
      },
      "source": [
        "\n",
        "# Unique set of mapping labels to indexes (needed for sklearn.metrics.classification_report())\n",
        "# - (converted to dict for better performance, otherwise at each step would be needed list.index(token))\n",
        "__index_labels__ = [el[0] + el[1] for el in itertools.product(['B-', 'I-'], ['LOC', 'MISC', 'ORG', 'PER'])] + ['O']\n",
        "__index_labels__ = {lab: idx for idx, lab in enumerate(__index_labels__)}\n",
        "\n",
        "def get_accuracies(doc:spacy.tokens.Doc, ents:list, labels=__index_labels__):\n",
        "    gt_sent = [\n",
        "        # all tokens from entities in a sentence\n",
        "        [enttoken[0] for ent in ents for enttoken in ent], \n",
        "        # relative entity tags \n",
        "        [enttoken[1] for ent in ents for enttoken in ent]\n",
        "    ]\n",
        "\n",
        "    # needed for part 1\n",
        "    preds = []\n",
        "    truths = []\n",
        "\n",
        "    parsed_sent, _ = retokenize(doc)\n",
        "    \n",
        "    if len(parsed_sent) != len(gt_sent[0]): \n",
        "        raise ValueError(f\"inconsistent sentences length for parsed '{parsed_sent}' and ground truth '{gt_sent[0]}'\")\n",
        "    \n",
        "    for hyp, ref in zip(parsed_sent, gt_sent[1]):\n",
        "\n",
        "        # Part 1\n",
        "        preds.append(labels[hyp[1]])\n",
        "        truths.append(labels[ref])\n",
        "    \n",
        "    return {'part1': {'preds': preds, 'truths': truths}, 'part2': parsed_sent}\n"
      ],
      "execution_count": 11,
      "outputs": []
    },
    {
      "cell_type": "markdown",
      "metadata": {
        "id": "shrNV0XsF4b6"
      },
      "source": [
        "\n",
        "### 2) Grouping of Entities. Write a function to group recognized named entities using `noun_chunks` method of SpaCy. Analyze the groups in terms of most frequent combinations (i.e. NER types that go together).\n",
        "\n",
        "The target for this part of the assignment is to identify *groups of entities* inside sentences, in the sense of entities that are inside the same noun chunk and therefore are bound together; also, in the end are retrieved also frequency counts of entity groups (see the Results part, this is not included in this function). \n",
        "\n",
        "**Note**: Grouping has been performed on SpaCy classes and not on CoNLL ones, and the order in which labels appear has not considered to be relevant for this task (see Results section for counts of groups).\n",
        "\n",
        "Grouping of entities is implemented in the following way: through `noun_chunks` and `ents` attributes of `Token`, the two lists of chunks and entities are generated; the function will iterate over the two of them in parallel, while checking if entnties belong to the curent chunk or not. If an entity does not belong to the current chunk, for first it is added a new empty list to the list of groups, because without any doubt the current group should be considered as closed. In this case, two cases are given:\n",
        "+ current entity is part of one of the following chunks, which means that a forward check will find the exact chunk where it belongs; in this case nothing should be done, because the entity will be processed in next steps;\n",
        "+ current entity is not part of any chunk, therefore the forward check reaches the end of noun chunks without finding any match; in this case the entity should be added immediately to the result, as outlier of noun chunks, and after that a new group is prepared to be used (by adding `[]`). \n",
        "\n",
        "**Note**: here it is assumed that outlier entities cannot form groups by definition. Solving this task without this assumption would require a much more complex analysis and a different way of detecting groups from `noun_chunks`.\n",
        "\n",
        "In case the entity is actually part of current chunk, then it must be added to the current group, which is the last one of the group list; a check on the size of the last element of the group is performed, to avoid having multiple useless empty lists inside the result. At the end of this branch, the current group index is decremented, so that in the end the current group will remain the same and other entities may be appended to it.\n",
        "\n",
        "Finally, if the loop reaches the end of the chunk list before processing all entities, it must be that there are other outliers in the final part of the sentence and therefore after the last noun chunk: these are all added thanks to a loop that adds all of them as independent groups.\n",
        "\n",
        "The final result is a list of lists, where each list represents a group of entities and entities are represented by strings of labels' names. These will be used in the Results part to create unique labels for groups, to compute frequency counts.\n"
      ]
    },
    {
      "cell_type": "code",
      "metadata": {
        "id": "MCjktX1Dg5qs"
      },
      "source": [
        "def group_ents(doc:spacy.tokens.Doc):\n",
        "\n",
        "    res = [] # current sentence\n",
        "    \n",
        "    noun_chunks = list(doc.noun_chunks)\n",
        "    entities = list(doc.ents)\n",
        "    \n",
        "    i = 0 # index for entities\n",
        "    j = 0 # index for noun_chunks\n",
        "    \n",
        "    # iterating jointly over entities and noun chunks\n",
        "    while i < len(entities) and j < len(noun_chunks):\n",
        "\n",
        "        if len(set(entities[i]).difference(set(noun_chunks[j]))) == 0:\n",
        "\n",
        "            if (len(res) == 0 or (len(res) > 0 and len(res[-1]) > 0)): res.append([]) # start a new group, bc. none has been added yet or current one is finished (if not empty)\n",
        "            \n",
        "            # FORWARD CHECK on outliers entities (outside noun_chunks)\n",
        "            tmp = j    \n",
        "            while tmp < len(noun_chunks): # NOTE: supposing all items in entity belong to same noun chunk, if they belong to one!\n",
        "                if len(set(entities[i]).difference(set(noun_chunks[j]))) != 0: break\n",
        "                else: tmp += 1\n",
        "\n",
        "            if tmp == len(noun_chunks): # entity is an outlier or current noun chunk does not contain entities\n",
        "                if len(res) > 0 and len(res[-1]) == 0: res[-1].append(entities[i][0].ent_type_) \n",
        "                else: res.append([entities[i][0].ent_type_])\n",
        "                if i != len(entities) - 1: res.append([]) # prepares new group (for subsequent eventually not outliers) | this is correct because outlier entities cannot be in a group\n",
        "                i += 1\n",
        "            else: pass # will be explored later\n",
        "        else:\n",
        "            if len(res) == 0: res.append([entities[i][0].ent_type_]) # meaning this is the first entity of a noun chunk | NOTE: supposing all items in entity have the same label!!!\n",
        "            else: res[-1].append(entities[i][0].ent_type_) # here i have already started a noun chunk, so i must append (--> actually a combination)\n",
        "            i += 1\n",
        "            j -= 1 # we are not changing the noun_chunk bc the group is still the same\n",
        "\n",
        "        if j == len(noun_chunks) - 1: # if it has reached the end of noun_chunks but other entities still remain, they must be added \n",
        "            while i < len(entities):\n",
        "                if len(res[-1]) == 0: res[-1].append(entities[i][0].ent_type_)\n",
        "                else: res.append([entities[i][0].ent_type_])\n",
        "                i += 1\n",
        "        j += 1\n",
        "    \n",
        "    return res"
      ],
      "execution_count": 12,
      "outputs": []
    },
    {
      "cell_type": "markdown",
      "metadata": {
        "id": "QkEtp8oIF8_1"
      },
      "source": [
        "### 3) One of the possible post-processing steps is to fix segmentation errors. Write a function that extends the entity span to cover the full noun-compounds. Make use of compound dependency relation.\n",
        "\n",
        "The idea behind the implementation of this exercise is that we can search for `compound` dependencies inside entities **subtrees** with a top down approach. In this way, we can solve the hardest parts of this task which are both chains of compound relationships (i.e. tokens being compounds of other compound tokens) and compounds referring to entities different from the one that is currently processed. \n",
        "\n",
        "In order to manage in an easier way entity comparisons, this time will be used a `set` to represent the entities in the sentence: while cycling over this set, for first it is retrieved the mapping from SpaCy indexes of tokens in current entity and their new position in retokenized sentence, so that inconsistencies will be avoided; this is mainly due to the fact that we will mostly work with the result list, that is already in CoNLL format (text plus tag) and follows that same tokenization. Furthermore, from `retokenize()` we get also already converted labels, so that we will directly work with the correct set of entity tags.\n",
        "\n",
        "As initial step, we fix the current entity label, excluding all the out-of-entity tagged tokens in the entity; the first occurrence of a non-outside tag will be considered as the entity label, and in case the entity is not relevant it will be processed.\n",
        "\n",
        "Then we start to analyze tokens inside the entity subtree, but only when these are tagged as `compound`. Whenever this happens, it can be only one of the following cases:\n",
        "1. the token is part of current entity;\n",
        "2. the token refers to a token belonging to the current entity, or is part of a chain of compounds that terminates in this entity;\n",
        "3. the token is part of a different entity;\n",
        "4. the token refers to a token belonging to another entity, or it is part of a chain-of-compounds leading to another entity.\n",
        "\n",
        "For first, we check if the compound is part of another entity, which is the first `for` loop inside the `if` branch detecting if this is a compound; here come in handy Python's `set` objects, that allow to easily exclude this entity from the list to check. \n",
        "\n",
        "At this point, it is performed the check on chain-of-compounds: in a brief bottom-up search, a reference to the token is substituted with its head until it is found a non-compound token; if this is not part of the current entity, then the current token must be skipped, because it will be processed by future entities. Otherwise, we must first check that it is not already part of current entity, but we must pay attention also to the fact that we have actually retokenized the sentence; therefore, the quickest way to do this check is to find whether the new index of this token belongs to the current entity's index set. \n",
        "\n",
        "We also check if the compound has already been assigned to another entity, so that we avoid cases in which an entity is part of the subtree of another entity: in this case, the former would assign the compound before the latter, but the compound would be analyzed again by parent entity. Note that the opposite cannot happen: it is excluded by the bottom-up check that we performed before.\n",
        "\n",
        "If this is not the case, then we can finally say that this token should be assigned to the current entity. Now we have to find its relative position with respect to the entity: it could be either before the first element of the entity or after the last element of the entity; otherwise, it would mean that it is part of the entity and this would be inconsistent with previous checks. \n",
        "\n",
        "The case in which its index is higher than the entity's end is easy: we can just assign to it the `'I'` tag plus the label of current entity without problems. The other case is more difficult, because we should check if other compounds belonging to this entity have been already assigned before this, so that they would represent a \"new\" start of the entity: to solve this, we use a list that keeps track of the referral token of a compound, meaning that if a compound is modified to be part of an entity then its corresponding value in the `changed` list is modified from `None` to the entity's `root` token. So, if we do not find an already assigned compound before the current one, we can safely assign the `'B'` tag to this one and set all the other elements of the entity as internal parts of the entity in final result list (change their tag to `'I'`). If instead we find another previous compound assigned, then we just tag this compound as internal part of the entity.\n",
        "\n",
        "**Note**: we only check for compounds that come before the current token because generally each span returned by `subtree` yields token orederd according to sentence order; thus there cannot be compounds coming after the current one in the sentence that are already assigned too.\n",
        "\n",
        "After processing the sentence, a CoNLL-formatted list is returned by transforming all internal lists to tuples (to be consistent with the syntax of `evaluate()` used elsewhere). "
      ]
    },
    {
      "cell_type": "code",
      "metadata": {
        "id": "7Uz8vtkIR8tO"
      },
      "source": [
        "def fix_compounds(doc:spacy.tokens.Doc):\n",
        "    ents = set(doc.ents)\n",
        "    res, index_conversion_table = retokenize(doc)\n",
        "    res = [[el[0], el[1]] for el in res] # change to lists so that can be modified\n",
        "    \n",
        "    # mantained to check if another compound comes before this and has been already modified (they will be assigned the same entity.root)\n",
        "    changed = [None for el in res]\n",
        "\n",
        "    for ent in ents:\n",
        "        \n",
        "        ent_indexes = {index_conversion_table[tk.i] for tk in ent}\n",
        "        \n",
        "        # gets the correct label\n",
        "        curr_label = None\n",
        "        for i in ent_indexes:\n",
        "            if res[i][1] != 'O':\n",
        "                curr_label = res[i][1].split('-')[1]\n",
        "                break\n",
        "\n",
        "        # only executes if entity is relevant\n",
        "        if curr_label != None:\n",
        "            for tk in ent.subtree: \n",
        "                tk_converted_index = index_conversion_table[tk.i]\n",
        "                if tk.dep_ == 'compound':\n",
        "                    \n",
        "                    # if this compound is part of another entity then must be skipped\n",
        "                    is_ent = False\n",
        "                    for other in ents.difference({ent}):\n",
        "                        if tk in other:\n",
        "                            is_ent = True\n",
        "                            break\n",
        "                    \n",
        "                    if is_ent:\n",
        "                        continue\n",
        "                    else:\n",
        "                        # if compound is part of a chain of compounds towards another entity then must be skipped\n",
        "                        # NOTE: this works because usually compounds have out-to-in structure (meaning that if they belong to an entity then\n",
        "                        #       their head is either referring to that entity or is their entity)\n",
        "                        # Therefore, finds the first non-compound ancestor and verifies if it is inside the current entity\n",
        "                        tmp = tk\n",
        "                        while tmp.dep_ == 'compound':\n",
        "                            tmp = tmp.head\n",
        "                        if tmp not in ent:\n",
        "                            continue\n",
        "\n",
        "                        if tk_converted_index in ent_indexes or changed[index_conversion_table[tk.i]]: \n",
        "                            # this token is already either part of the entity or part of one of its tokens, or has already been modified as part of another entity\n",
        "                            pass\n",
        "                        else:  # not part of current entity but part of its subtree, so must fix segmentation\n",
        "                            \n",
        "                            changed[index_conversion_table[tk.i]] = ent.root\n",
        "                            \n",
        "                            if tk_converted_index < index_conversion_table[ent.start]: # compound is before start of the entity\n",
        "                                exists_previous_compound = ent.root in changed[:index_conversion_table[tk.i]] \n",
        "                                # NOTE: only case in which the other compound is previous is checked, because we are cycling over a span ordered wrt. sentence order\n",
        "                                \n",
        "                                if not exists_previous_compound: \n",
        "                                    res[tk_converted_index][1] = 'B-' + curr_label # assigns the correct label to compound\n",
        "                                    for i in range(index_conversion_table[ent.start], index_conversion_table[ent.end - 1] + 1):\n",
        "                                        res[i][1] = 'I-' + curr_label\n",
        "                                else: \n",
        "                                    res[tk_converted_index][1] = 'I-' + curr_label\n",
        "\n",
        "                            elif tk_converted_index > index_conversion_table[ent.end - 1]: # compound after end of the entity\n",
        "                                res[tk_converted_index] = 'I-' + curr_label\n",
        "                            \n",
        "                            else: \n",
        "                                print(ent)\n",
        "                                print(ents.difference({ent}))\n",
        "                                raise ValueError(f\"this compound token ('{tk.text}') should be inside entity span but is not, in sentence: '{doc}'\")\n",
        "        \n",
        "    return [(el[0], el[1]) for el in res]"
      ],
      "execution_count": 13,
      "outputs": []
    },
    {
      "cell_type": "markdown",
      "metadata": {
        "id": "-hbLCRCgwJnT"
      },
      "source": [
        "### Results of Exercises\n",
        "\n",
        "Here is the main loop that computes results for the three exercises, parsing the sentence just 1 time for all of them."
      ]
    },
    {
      "cell_type": "code",
      "metadata": {
        "id": "Yw6v9HOwMgs1"
      },
      "source": [
        "results_ex1 ={\n",
        "    'part1': {'preds': [], 'truths': []},\n",
        "    'part2': []\n",
        "}\n",
        "\n",
        "results_ex2 = []\n",
        "results_ex3 = []\n",
        "\n",
        "for sent, ents in zip(dataset['sentences'], dataset['ners']):\n",
        "    doc = nlp(sent)\n",
        "    res = get_accuracies(doc, ents)\n",
        "    results_ex1['part1']['truths'].extend(res['part1']['truths'])\n",
        "    results_ex1['part1']['preds'].extend(res['part1']['preds'])\n",
        "    results_ex1['part2'].append(res['part2'])\n",
        "\n",
        "    results_ex2.append(group_ents(doc))\n",
        "    results_ex3.append(fix_compounds(doc))"
      ],
      "execution_count": 14,
      "outputs": []
    },
    {
      "cell_type": "markdown",
      "metadata": {
        "id": "jxqm0dsBxc7C"
      },
      "source": [
        "#### **Exercise 1**"
      ]
    },
    {
      "cell_type": "markdown",
      "metadata": {
        "id": "7YQiVzEJLszn"
      },
      "source": [
        "\n",
        "1) Report token-level performance (per class and total)\n",
        "+ accuracy of correctly recognizing all tokens that belong to named entities (i.e. tag-level accuracy)\n",
        "\n",
        "The following table recaps the model's performances, showing precision, recall and `f1`-score thanks to `classification_report()`; classes have been split also by their IOB tag. The accuracy is also visible, and it is overall `0.91`. We can see that the class where the model is most performant is the outside-class: this could be explained by the fact that it is far wider than the others, containing all the tags that are considered by CoNLL standard.\n"
      ]
    },
    {
      "cell_type": "code",
      "metadata": {
        "colab": {
          "base_uri": "https://localhost:8080/"
        },
        "id": "FTPsWrP2LvBE",
        "outputId": "f8bff7af-a4c7-4909-dc46-2b3f5740685e"
      },
      "source": [
        "print(classification_report(results_ex1['part1']['truths'], results_ex1['part1']['preds'], target_names=list(__index_labels__.keys())))"
      ],
      "execution_count": 15,
      "outputs": [
        {
          "output_type": "stream",
          "text": [
            "              precision    recall  f1-score   support\n",
            "\n",
            "       B-LOC       0.79      0.73      0.76      1668\n",
            "      B-MISC       0.80      0.56      0.66       702\n",
            "       B-ORG       0.52      0.34      0.41      1661\n",
            "       B-PER       0.78      0.62      0.69      1617\n",
            "       I-LOC       0.54      0.59      0.56       257\n",
            "      I-MISC       0.59      0.37      0.46       216\n",
            "       I-ORG       0.46      0.55      0.50       835\n",
            "       I-PER       0.73      0.78      0.75      1156\n",
            "           O       0.95      0.98      0.97     38323\n",
            "\n",
            "    accuracy                           0.91     46435\n",
            "   macro avg       0.68      0.61      0.64     46435\n",
            "weighted avg       0.91      0.91      0.91     46435\n",
            "\n"
          ],
          "name": "stdout"
        }
      ]
    },
    {
      "cell_type": "markdown",
      "metadata": {
        "id": "hy4rsfL0huMJ"
      },
      "source": [
        "\n",
        "2) report CoNLL chunk-level performance (per class and total); \n",
        "+ precision, recall, f-measure of correctly recognizing all the named entities in a chunk per class and total\n"
      ]
    },
    {
      "cell_type": "code",
      "metadata": {
        "id": "Z6GJPq_bYrPB",
        "colab": {
          "base_uri": "https://localhost:8080/",
          "height": 204
        },
        "outputId": "acd4a142-bc1c-41c4-c734-be958079a675"
      },
      "source": [
        "# Note: List comprehension needed to extract tokens from entities, which are stored separately in lists inside dataset['ners']\n",
        "res = evaluate([[tk for ent in sent for tk in ent] for sent in dataset['ners']], results_ex1['part2'])\n",
        "pd_tbl = pd.DataFrame().from_dict(res, orient='index')\n",
        "pd_tbl.round(decimals=3)"
      ],
      "execution_count": 16,
      "outputs": [
        {
          "output_type": "execute_result",
          "data": {
            "text/html": [
              "<div>\n",
              "<style scoped>\n",
              "    .dataframe tbody tr th:only-of-type {\n",
              "        vertical-align: middle;\n",
              "    }\n",
              "\n",
              "    .dataframe tbody tr th {\n",
              "        vertical-align: top;\n",
              "    }\n",
              "\n",
              "    .dataframe thead th {\n",
              "        text-align: right;\n",
              "    }\n",
              "</style>\n",
              "<table border=\"1\" class=\"dataframe\">\n",
              "  <thead>\n",
              "    <tr style=\"text-align: right;\">\n",
              "      <th></th>\n",
              "      <th>p</th>\n",
              "      <th>r</th>\n",
              "      <th>f</th>\n",
              "      <th>s</th>\n",
              "    </tr>\n",
              "  </thead>\n",
              "  <tbody>\n",
              "    <tr>\n",
              "      <th>LOC</th>\n",
              "      <td>0.776</td>\n",
              "      <td>0.719</td>\n",
              "      <td>0.746</td>\n",
              "      <td>1668</td>\n",
              "    </tr>\n",
              "    <tr>\n",
              "      <th>MISC</th>\n",
              "      <td>0.783</td>\n",
              "      <td>0.548</td>\n",
              "      <td>0.645</td>\n",
              "      <td>702</td>\n",
              "    </tr>\n",
              "    <tr>\n",
              "      <th>ORG</th>\n",
              "      <td>0.463</td>\n",
              "      <td>0.298</td>\n",
              "      <td>0.363</td>\n",
              "      <td>1661</td>\n",
              "    </tr>\n",
              "    <tr>\n",
              "      <th>PER</th>\n",
              "      <td>0.738</td>\n",
              "      <td>0.591</td>\n",
              "      <td>0.656</td>\n",
              "      <td>1617</td>\n",
              "    </tr>\n",
              "    <tr>\n",
              "      <th>total</th>\n",
              "      <td>0.690</td>\n",
              "      <td>0.537</td>\n",
              "      <td>0.604</td>\n",
              "      <td>5648</td>\n",
              "    </tr>\n",
              "  </tbody>\n",
              "</table>\n",
              "</div>"
            ],
            "text/plain": [
              "           p      r      f     s\n",
              "LOC    0.776  0.719  0.746  1668\n",
              "MISC   0.783  0.548  0.645   702\n",
              "ORG    0.463  0.298  0.363  1661\n",
              "PER    0.738  0.591  0.656  1617\n",
              "total  0.690  0.537  0.604  5648"
            ]
          },
          "metadata": {
            "tags": []
          },
          "execution_count": 16
        }
      ]
    },
    {
      "cell_type": "markdown",
      "metadata": {
        "id": "WNkjjFTWxi8N"
      },
      "source": [
        "#### **Exercise 2**\n",
        "\n",
        "In this block is declared a function that from a group (considered as `list`) returns the unique label representing that group. This is made just by rearranging the list of strings in alphabetical way, so that it is uniquely defined, and combining them with a `+` symbol. \n",
        "\n",
        "**Note**: this means that groups with same labels in different orders are considered equals. This can be justified by the fact that the importance of groups in this task is in their semantics, not in their synctactic occurrence, which means that it does not matter the order in which they appear but rather the fact itself that they appear together.\n",
        "\n",
        "Frequency counts are obtained by cycling over result list, which contains lists of groups per sentence; each group in a sentence is associated with its unique label and increases the count for that label.\n",
        "\n",
        "Two **histograms** have also been plotted for this exercise: \n",
        "+ the first one shows groups which are above a certain frequency threshold (hard-coded to `15`);\n",
        "+ the second one is still a thresholded version of the frequency counts, but shows only groups with more than 1 tag (i.e. excludes groups of stand-alone entities)."
      ]
    },
    {
      "cell_type": "code",
      "metadata": {
        "colab": {
          "base_uri": "https://localhost:8080/",
          "height": 404
        },
        "id": "-v5YRSeLNVm_",
        "outputId": "8f379614-a14d-4c76-898e-17a2c9ac2a4d"
      },
      "source": [
        "def get_unique_label(group:list):\n",
        "    group.sort()\n",
        "    return \" + \".join(group)\n",
        "\n",
        "\n",
        "counts = {}\n",
        "\n",
        "for sent in results_ex2:\n",
        "    for group in sent:\n",
        "        lb = get_unique_label(group)\n",
        "        try: counts[lb] += 1\n",
        "        except KeyError: counts[lb] = 1\n",
        "\n",
        "threshold = 15\n",
        "all_counts = {k: v for k,v in counts.items() if v > threshold}\n",
        "all_counts = pd.DataFrame.from_records([{'Tag': k, 'Count': v} for k,v in all_counts.items()])\n",
        "\n",
        "# Plotting hist of frequencies above threshold\n",
        "plot = sn.catplot(data=all_counts, y='Tag', x='Count', kind='bar')\n",
        "plot.fig.subplots_adjust(top=0.92, right=1.5)\n",
        "plot.fig.suptitle(f\"Tag Frequencies (min. threshold {threshold})\")"
      ],
      "execution_count": 17,
      "outputs": [
        {
          "output_type": "execute_result",
          "data": {
            "text/plain": [
              "Text(0.5, 0.98, 'Tag Frequencies (min. threshold 15)')"
            ]
          },
          "metadata": {
            "tags": []
          },
          "execution_count": 17
        },
        {
          "output_type": "display_data",
          "data": {
            "image/png": "[encoded data removed]",
            "text/plain": [
              "<Figure size 360x360 with 1 Axes>"
            ]
          },
          "metadata": {
            "tags": [],
            "needs_background": "light"
          }
        }
      ]
    },
    {
      "cell_type": "code",
      "metadata": {
        "colab": {
          "base_uri": "https://localhost:8080/",
          "height": 404
        },
        "id": "swEC0hxFj_Sn",
        "outputId": "70b281fd-ff98-4f40-ef96-b6cd83d4bbdb"
      },
      "source": [
        "threshold = 10\n",
        "bi_counts = {k: v for k,v in counts.items() if v > threshold and len(k.split('+')) > 1}\n",
        "bi_counts = pd.DataFrame.from_records([{'Tag': k, 'Count': v} for k,v in bi_counts.items()])\n",
        "plot = sn.catplot(data=bi_counts, y='Tag', x='Count', kind='bar')\n",
        "plot.fig.subplots_adjust(top=0.92, right=1.5)\n",
        "plot.fig.suptitle(f\"Tag Frequencies - Only multiple label groups (min. threshold {threshold})\")"
      ],
      "execution_count": 18,
      "outputs": [
        {
          "output_type": "execute_result",
          "data": {
            "text/plain": [
              "Text(0.5, 0.98, 'Tag Frequencies - Only multiple label groups (min. threshold 10)')"
            ]
          },
          "metadata": {
            "tags": []
          },
          "execution_count": 18
        },
        {
          "output_type": "display_data",
          "data": {
            "image/png": "[encoded data removed]",
            "text/plain": [
              "<Figure size 360x360 with 1 Axes>"
            ]
          },
          "metadata": {
            "tags": [],
            "needs_background": "light"
          }
        }
      ]
    },
    {
      "cell_type": "markdown",
      "metadata": {
        "id": "2W-Kk1A-71EB"
      },
      "source": [
        "#### **Comment on Exercise 2 Histograms**\n",
        "\n",
        "dsadsa"
      ]
    },
    {
      "cell_type": "markdown",
      "metadata": {
        "id": "3bKYNFt3bt3A"
      },
      "source": [
        "#### **Exercise 3**"
      ]
    },
    {
      "cell_type": "code",
      "metadata": {
        "id": "F4iWxNw8btei",
        "colab": {
          "base_uri": "https://localhost:8080/",
          "height": 204
        },
        "outputId": "68e047ee-f5eb-42d1-d957-c8e7512b8856"
      },
      "source": [
        "# NOTE: see results of Ex2 for explanation of the list comprehension\n",
        "res = evaluate([[tk for ent in sent for tk in ent] for sent in dataset['ners']], results_ex3)\n",
        "pd_tbl = pd.DataFrame().from_dict(res, orient='index')\n",
        "pd_tbl.round(decimals=3)"
      ],
      "execution_count": 19,
      "outputs": [
        {
          "output_type": "execute_result",
          "data": {
            "text/html": [
              "<div>\n",
              "<style scoped>\n",
              "    .dataframe tbody tr th:only-of-type {\n",
              "        vertical-align: middle;\n",
              "    }\n",
              "\n",
              "    .dataframe tbody tr th {\n",
              "        vertical-align: top;\n",
              "    }\n",
              "\n",
              "    .dataframe thead th {\n",
              "        text-align: right;\n",
              "    }\n",
              "</style>\n",
              "<table border=\"1\" class=\"dataframe\">\n",
              "  <thead>\n",
              "    <tr style=\"text-align: right;\">\n",
              "      <th></th>\n",
              "      <th>p</th>\n",
              "      <th>r</th>\n",
              "      <th>f</th>\n",
              "      <th>s</th>\n",
              "    </tr>\n",
              "  </thead>\n",
              "  <tbody>\n",
              "    <tr>\n",
              "      <th>LOC</th>\n",
              "      <td>0.760</td>\n",
              "      <td>0.704</td>\n",
              "      <td>0.731</td>\n",
              "      <td>1668</td>\n",
              "    </tr>\n",
              "    <tr>\n",
              "      <th>MISC</th>\n",
              "      <td>0.783</td>\n",
              "      <td>0.548</td>\n",
              "      <td>0.645</td>\n",
              "      <td>702</td>\n",
              "    </tr>\n",
              "    <tr>\n",
              "      <th>ORG</th>\n",
              "      <td>0.450</td>\n",
              "      <td>0.291</td>\n",
              "      <td>0.353</td>\n",
              "      <td>1661</td>\n",
              "    </tr>\n",
              "    <tr>\n",
              "      <th>PER</th>\n",
              "      <td>0.600</td>\n",
              "      <td>0.482</td>\n",
              "      <td>0.534</td>\n",
              "      <td>1617</td>\n",
              "    </tr>\n",
              "    <tr>\n",
              "      <th>total</th>\n",
              "      <td>0.640</td>\n",
              "      <td>0.500</td>\n",
              "      <td>0.561</td>\n",
              "      <td>5648</td>\n",
              "    </tr>\n",
              "  </tbody>\n",
              "</table>\n",
              "</div>"
            ],
            "text/plain": [
              "           p      r      f     s\n",
              "LOC    0.760  0.704  0.731  1668\n",
              "MISC   0.783  0.548  0.645   702\n",
              "ORG    0.450  0.291  0.353  1661\n",
              "PER    0.600  0.482  0.534  1617\n",
              "total  0.640  0.500  0.561  5648"
            ]
          },
          "metadata": {
            "tags": []
          },
          "execution_count": 19
        }
      ]
    },
    {
      "cell_type": "markdown",
      "metadata": {
        "id": "Nad8BE_UybEF"
      },
      "source": [
        "### Appendix: Testing Custom Methods"
      ]
    },
    {
      "cell_type": "code",
      "metadata": {
        "id": "CDquLvZmrhSR",
        "colab": {
          "base_uri": "https://localhost:8080/"
        },
        "outputId": "49b2b3b0-1adc-48f3-c81e-89ac6e779957"
      },
      "source": [
        "### Ensure custom load function retrieves correct number of sentences ###\n",
        "print(\"From load(): \", len(dataset['sentences']))\n",
        "print(\"From read_corpus_conll(): \", len(read_corpus_conll('/content/data/test.txt')))\n",
        "\n",
        "cnt = 0\n",
        "for sent in read_corpus_conll('/content/data/test.txt'):\n",
        "    if sent[0][0] == '-DOCSTART- -X- -X- O':\n",
        "        cnt += 1\n",
        "print(\"Count of unused rows in conll_load(): \", cnt)\n",
        "print(\"Difference between CoNLL load() and custom load(): \", len(read_corpus_conll('/content/data/test.txt')) - len(dataset['sentences']))"
      ],
      "execution_count": 20,
      "outputs": [
        {
          "output_type": "stream",
          "text": [
            "From load():  3453\n",
            "From read_corpus_conll():  3684\n",
            "Count of unused rows in conll_load():  231\n",
            "Difference between CoNLL load() and custom load():  231\n"
          ],
          "name": "stdout"
        }
      ]
    },
    {
      "cell_type": "code",
      "metadata": {
        "colab": {
          "base_uri": "https://localhost:8080/"
        },
        "id": "POcEqW2IfNoH",
        "outputId": "2790d60d-c76a-42a2-a7be-afb6dc86bf89"
      },
      "source": [
        "### Retokenize + Index Conversion ###\n",
        "idx = 132\n",
        "doc = nlp(dataset['sentences'][idx])\n",
        "sent, idx_table = retokenize(doc)\n",
        "print(sent)\n",
        "print({doc[k].text: sent[v] for k,v in  idx_table.items()})"
      ],
      "execution_count": 21,
      "outputs": [
        {
          "output_type": "stream",
          "text": [
            "[('6-0-32-2', 'O'), ('(', 'O'), ('2w', 'O'), (',', 'O'), ('1nb', 'O'), (')', 'O'), (',', 'O'), ('Saqlain', 'B-PER'), ('Mushtaq', 'I-PER'), ('8-0-54-2', 'O'), (',', 'O'), ('Mushtaq', 'B-PER'), ('Ahmad', 'I-PER')]\n",
            "{'6': ('6-0-32-2', 'O'), '-': ('8-0-54-2', 'O'), '0': ('8-0-54-2', 'O'), '32': ('6-0-32-2', 'O'), '2': ('8-0-54-2', 'O'), '(': ('(', 'O'), '2w': ('2w', 'O'), ',': (',', 'O'), '1nb': ('1nb', 'O'), ')': (')', 'O'), 'Saqlain': ('Saqlain', 'B-PER'), 'Mushtaq': ('Mushtaq', 'B-PER'), '8': ('8-0-54-2', 'O'), '54': ('8-0-54-2', 'O'), 'Ahmad': ('Ahmad', 'I-PER')}\n"
          ],
          "name": "stdout"
        }
      ]
    },
    {
      "cell_type": "code",
      "metadata": {
        "id": "McyXxJx868RA",
        "colab": {
          "base_uri": "https://localhost:8080/"
        },
        "outputId": "833cf610-7333-4250-b52e-964315a75814"
      },
      "source": [
        "### Grouping entities ###\n",
        "idx = -1\n",
        "doc = nlp(dataset['sentences'][idx])\n",
        "print(doc)\n",
        "\n",
        "print([[(el.text, el.ent_iob_, el.ent_type_) for el in ent] for ent in doc.ents])\n",
        "print([[(el.text, el.ent_iob_, el.ent_type_) for el in noun_chunk] for noun_chunk in doc.noun_chunks])\n",
        "\n",
        "print(results_ex2[idx])"
      ],
      "execution_count": 22,
      "outputs": [
        {
          "output_type": "stream",
          "text": [
            "The lanky former Leeds United defender did not make his England debut until the age of 30 but eventually won 35 caps and was a key member of the 1966 World Cup winning team with his younger brother , Bobby .\n",
            "[[('Leeds', 'B', 'ORG'), ('United', 'I', 'ORG')], [('England', 'B', 'GPE')], [('the', 'B', 'DATE'), ('age', 'I', 'DATE'), ('of', 'I', 'DATE'), ('30', 'I', 'DATE')], [('35', 'B', 'CARDINAL')], [('1966', 'B', 'DATE')], [('World', 'B', 'EVENT'), ('Cup', 'I', 'EVENT')], [('Bobby', 'B', 'PERSON')]]\n",
            "[[('The', 'O', ''), ('lanky', 'O', ''), ('former', 'O', ''), ('Leeds', 'B', 'ORG'), ('United', 'I', 'ORG'), ('defender', 'O', '')], [('his', 'O', ''), ('England', 'B', 'GPE')], [('the', 'B', 'DATE'), ('age', 'I', 'DATE')], [('35', 'B', 'CARDINAL'), ('caps', 'O', '')], [('a', 'O', ''), ('key', 'O', ''), ('member', 'O', '')], [('the', 'O', ''), ('1966', 'B', 'DATE'), ('World', 'B', 'EVENT'), ('Cup', 'I', 'EVENT'), ('winning', 'O', ''), ('team', 'O', '')], [('his', 'O', ''), ('younger', 'O', ''), ('brother', 'O', '')], [('Bobby', 'B', 'PERSON')]]\n",
            "[['ORG'], ['GPE'], ['CARDINAL', 'DATE', 'DATE', 'EVENT', 'PERSON']]\n"
          ],
          "name": "stdout"
        }
      ]
    },
    {
      "cell_type": "code",
      "metadata": {
        "colab": {
          "base_uri": "https://localhost:8080/"
        },
        "id": "UD7JlseGL0ZO",
        "outputId": "6afe1c2a-3681-4863-a0df-2751c65e0b6d"
      },
      "source": [
        "### Fixing Compounds ###\n",
        "sentence = \"my baseball bat Betty is broken .\"\n",
        "sentence = \"He said a proposal last month by EU Farm Commissioner Franz Fischler to ban sheep brains .\"\n",
        "# sentence = dataset['sentences'][10]\n",
        "doc = nlp(sentence)\n",
        "print(doc)\n",
        "print([[(tk.text, tk.ent_iob_ + '-' + tk.ent_type_, tk.dep_) for tk in ent] for ent in doc.ents])\n",
        "print(\"-----------------------------\")\n",
        "print(*[(tk.text, tk.ent_iob_ + '-' + tk.ent_type_, tk.dep_, tk.head) for tk in doc], sep='\\n')\n",
        "print(\"-----------------------------\")\n",
        "\n",
        "print(fix_compounds(doc))\n",
        "doc.ents[0].end"
      ],
      "execution_count": 23,
      "outputs": [
        {
          "output_type": "stream",
          "text": [
            "He said a proposal last month by EU Farm Commissioner Franz Fischler to ban sheep brains .\n",
            "[[('last', 'B-DATE', 'amod'), ('month', 'I-DATE', 'npadvmod')], [('EU', 'B-ORG', 'compound'), ('Farm', 'I-ORG', 'compound')], [('Franz', 'B-PERSON', 'compound'), ('Fischler', 'I-PERSON', 'pobj')]]\n",
            "-----------------------------\n",
            "('He', 'O-', 'nsubj', said)\n",
            "('said', 'O-', 'ROOT', said)\n",
            "('a', 'O-', 'det', proposal)\n",
            "('proposal', 'O-', 'dobj', said)\n",
            "('last', 'B-DATE', 'amod', month)\n",
            "('month', 'I-DATE', 'npadvmod', proposal)\n",
            "('by', 'O-', 'prep', proposal)\n",
            "('EU', 'B-ORG', 'compound', Commissioner)\n",
            "('Farm', 'I-ORG', 'compound', Commissioner)\n",
            "('Commissioner', 'O-', 'compound', Fischler)\n",
            "('Franz', 'B-PERSON', 'compound', Fischler)\n",
            "('Fischler', 'I-PERSON', 'pobj', by)\n",
            "('to', 'O-', 'aux', ban)\n",
            "('ban', 'O-', 'acl', proposal)\n",
            "('sheep', 'O-', 'compound', brains)\n",
            "('brains', 'O-', 'dobj', ban)\n",
            "('.', 'O-', 'punct', said)\n",
            "-----------------------------\n",
            "[('He', 'O'), ('said', 'O'), ('a', 'O'), ('proposal', 'O'), ('last', 'O'), ('month', 'O'), ('by', 'O'), ('EU', 'B-ORG'), ('Farm', 'I-ORG'), ('Commissioner', 'B-PER'), ('Franz', 'I-PER'), ('Fischler', 'I-PER'), ('to', 'O'), ('ban', 'O'), ('sheep', 'O'), ('brains', 'O'), ('.', 'O')]\n"
          ],
          "name": "stdout"
        },
        {
          "output_type": "execute_result",
          "data": {
            "text/plain": [
              "6"
            ]
          },
          "metadata": {
            "tags": []
          },
          "execution_count": 23
        }
      ]
    },
    {
      "cell_type": "code",
      "metadata": {
        "id": "yB3VORZ21Ccr"
      },
      "source": [
        "def alternative_fix_compounds(doc:spacy.tokens.Doc):\n",
        "    parsed_sent = retokenize(doc)\n",
        "    ents = list(doc.ents)\n",
        "\n",
        "    # Setting up result sentence in CoNLL format\n",
        "    res =  [[tk.text, tk.ent_iob_ + (('-' + tk.ent_type_) if tk.ent_iob_ != 'O' else '')] for tk in doc]\n",
        "    \n",
        "    # Cycling over the whole sentence\n",
        "    for tk in doc:\n",
        "        if tk.dep_ == 'compound':\n",
        "            # searching for the head entity of the compound\n",
        "            i = 0\n",
        "            while i < len(ents):\n",
        "                if tk.head in ents[i]: # performs spacy.token.Token obj. comparison, so that duplicates are avoided \n",
        "                    break\n",
        "                i += 1\n",
        "            \n",
        "            # if compound is already in entity then does not need correction;\n",
        "            # otherwise must modify iob separation of spacy\n",
        "            if i < len(ents) and tk not in ents[i]:\n",
        "                if tk.i < ents[i][0].i:\n",
        "                    res[tk.i][1] = 'B-' + ents[i][0].ent_type_\n",
        "                    for enttk in ents[i]:\n",
        "                        res[enttk.i][1] = 'I-' + enttk.ent_type_\n",
        "                    \n",
        "                elif ents[i][0].i < tk.i < ents[i][-1].i:\n",
        "                    for idx in range(tk.i + 1, ents[i][-1].i):\n",
        "                        res[idx][1] = 'I-' + ents[i][0].ent_type_\n",
        "                    res[tk.i][1] = 'I-' + ents[i][0].ent_type_\n",
        "                else: \n",
        "                    res[tk.i][1] = 'I-' + ents[i][0].ent_type_\n",
        "            \n",
        "\n",
        "    for i in range(len(res)):\n",
        "        if res[i][1] == 'O' or labelmap[res[i][1].split('-')[1]] == 'out':\n",
        "            res[i][1] = 'O'\n",
        "        else:\n",
        "            iob, tag = res[i][1].split('-')\n",
        "            res[i][1] = iob + '-' + labelmap[tag]\n",
        "        res[i] = (res[i][0], res[i][1])\n",
        "    return res"
      ],
      "execution_count": 24,
      "outputs": []
    }
  ]
}