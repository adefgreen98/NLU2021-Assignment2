{
  "nbformat": 4,
  "nbformat_minor": 0,
  "metadata": {
    "colab": {
      "name": "Assignment2.ipynb",
      "provenance": [],
      "collapsed_sections": [],
      "authorship_tag": "ABX9TyPTiNyAVeXeXXxrDLVZ6qfV",
      "include_colab_link": true
    },
    "kernelspec": {
      "name": "python3",
      "display_name": "Python 3"
    },
    "language_info": {
      "name": "python"
    }
  },
  "cells": [
    {
      "cell_type": "markdown",
      "metadata": {
        "id": "view-in-github",
        "colab_type": "text"
      },
      "source": [
        "<a href=\"https://colab.research.google.com/github/adefgreen98/NLU2021-Assignment2/blob/main/code/Assignment2.ipynb\" target=\"_parent\"><img src=\"https://colab.research.google.com/assets/colab-badge.svg\" alt=\"Open In Colab\"/></a>"
      ]
    },
    {
      "cell_type": "markdown",
      "metadata": {
        "id": "BbPe1_Qa2mDL"
      },
      "source": [
        "# Natural Language Understanding 2021 - Assignment 2: NERs & Dependency Parsing\n",
        "\n",
        "_Federico Pedeni, 223993_"
      ]
    },
    {
      "cell_type": "markdown",
      "metadata": {
        "id": "yY_NwBjUGRjS"
      },
      "source": [
        "### Setup\n"
      ]
    },
    {
      "cell_type": "code",
      "metadata": {
        "id": "2kRn7qzwIuHj",
        "colab": {
          "base_uri": "https://localhost:8080/"
        },
        "outputId": "a68f44fd-69d8-4040-834f-2ab903a5500d"
      },
      "source": [
        "!git clone https://github.com/adefgreen98/NLU2021-Assignment2.git\n",
        "!mv /content/NLU2021-Assignment2/code/conll.py ./"
      ],
      "execution_count": null,
      "outputs": [
        {
          "output_type": "stream",
          "text": [
            "Cloning into 'NLU2021-Assignment2'...\n",
            "remote: Enumerating objects: 34, done.\u001b[K\n",
            "remote: Counting objects: 100% (34/34), done.\u001b[K\n",
            "remote: Compressing objects: 100% (29/29), done.\u001b[K\n",
            "remote: Total 34 (delta 8), reused 0 (delta 0), pack-reused 0\u001b[K\n",
            "Unpacking objects: 100% (34/34), done.\n"
          ],
          "name": "stdout"
        }
      ]
    },
    {
      "cell_type": "code",
      "metadata": {
        "id": "gYswNObrNYSu"
      },
      "source": [
        "import zipfile\n",
        "# Extract assignment data\n",
        "with zipfile.ZipFile(\"NLU2021-Assignment2/data/conll2003.zip\") as zipref:\n",
        "    zipref.extractall('data')"
      ],
      "execution_count": null,
      "outputs": []
    },
    {
      "cell_type": "markdown",
      "metadata": {
        "id": "BEAFCx3MKv7K"
      },
      "source": [
        "### Requirements"
      ]
    },
    {
      "cell_type": "code",
      "metadata": {
        "id": "tSMwml0tGTOm"
      },
      "source": [
        "import spacy\n",
        "import nltk\n",
        "\n",
        "import itertools \n",
        "from conll import *"
      ],
      "execution_count": null,
      "outputs": []
    },
    {
      "cell_type": "code",
      "metadata": {
        "id": "JRzLNxaCHvJs"
      },
      "source": [
        "# Initialize parser\n",
        "nlp = spacy.load('en')"
      ],
      "execution_count": null,
      "outputs": []
    },
    {
      "cell_type": "code",
      "metadata": {
        "id": "rXX04z9hF5NB"
      },
      "source": [
        "# Format of dataset: <TOKEN> <POS> <IOB part-of speech tag> <TAG>\n",
        "\n",
        "\n",
        "def load_dataset(mode):\n",
        "    res = {\n",
        "        'sentences': [],\n",
        "        'ners': []\n",
        "    }\n",
        "    pth = f'data/{mode}.txt'\n",
        "    \n",
        "    idx = 0\n",
        "\n",
        "    tmpsentence = []\n",
        "    tmpentity = {}\n",
        "    tmp_entities_in_sentence = []\n",
        "\n",
        "    tmpmisc = None\n",
        "\n",
        "    with open(pth, 'rt') as file:\n",
        "        for line in file:\n",
        "            idx += 1\n",
        "            if line == '\\n':\n",
        "                if len(tmpsentence) > 0:\n",
        "                    # adding artificial punctuation for only nominal sentences so that they are correclty parsed\n",
        "                    # if tmpsentence[-1] != '.': \n",
        "                    #     tmpsentence.append('.')\n",
        "\n",
        "                    # flushes the current sentence\n",
        "                    res['sentences'].append(' '.join(tmpsentence))\n",
        "                    tmpsentence = []\n",
        "\n",
        "                    # flushes the last entity in entity list for sentence\n",
        "                    if len(tmpentity) > 0: tmp_entities_in_sentence.append(tmpentity)\n",
        "                    tmpentity = []\n",
        "                    \n",
        "                    # adds artificial punctuation if needed also to the entity list\n",
        "                    # if tmp_entities_in_sentence[-1][-1][0] != '.':\n",
        "                    #     tmp_entities_in_sentence.append([('.', 'O')])\n",
        "                    \n",
        "                    # flushes entity list\n",
        "                    res['ners'].append(tmp_entities_in_sentence)\n",
        "                    tmp_entities_in_sentence = []\n",
        "                continue\n",
        "            elif line.startswith('-DOCSTART-'):\n",
        "                continue\n",
        "            else:\n",
        "                if len(line.split()) != 4: \n",
        "                    print(f\"Error: line with size {len(line.split())} at index {index}\")\n",
        "                token, pos, tag1, tag2 = line.split()\n",
        "                tmpsentence.append(token)\n",
        "\n",
        "                if tag2.startswith('B'):\n",
        "                    if len(tmpentity) > 0:\n",
        "                        tmp_entities_in_sentence.append(tmpentity)\n",
        "                        tmpentity = [(token, tag2)]\n",
        "                    else:\n",
        "                        tmpentity = [(token, tag2)]\n",
        "                elif tag2.startswith('I'):\n",
        "                    currtag = tag2.split('-')[1]\n",
        "                    oldtag =  tmpentity[-1][1].split('-')[1]\n",
        "                    if currtag != oldtag: \n",
        "                        raise RuntimeError(f\"not corresponding tags at index {idx}; tags are '{currtag}' (new) and '{oldtag}' (old)\")\n",
        "                    tmpentity.append((token, tag2))\n",
        "                elif tag2.startswith('O'): \n",
        "                    if len(tmpentity) > 0: tmp_entities_in_sentence.append(tmpentity)\n",
        "                    tmpentity = [(token, tag2)]\n",
        "                else:\n",
        "                    print(f\"Error: wrong tag detected at line {idx}, line: {line.encode()}\")\n",
        "\n",
        "    # TODO: solve the issue of MISC tagged-tokens that seem compound but appear without a subject (eg: 'German', 'British')\n",
        "    return res\n"
      ],
      "execution_count": null,
      "outputs": []
    },
    {
      "cell_type": "code",
      "metadata": {
        "id": "YzVnFnbEQjRH"
      },
      "source": [
        "# Utility to return iob-tagging for a single string\n",
        "def tag_iob_string(sentence:str):\n",
        "    return [(token.text, \"-\".join([token.ent_iob_, token.ent_type_])) for token in nlp(sentence)]"
      ],
      "execution_count": null,
      "outputs": []
    },
    {
      "cell_type": "markdown",
      "metadata": {
        "id": "fy02NlhJL1zl"
      },
      "source": [
        "### Named entity lanbels conversion from SpaCy format to CoNLL format\n",
        "Labelmaps converted to CoNLL according to [this](https://www.clips.uantwerpen.be/conll2003/ner/annotation.txt)."
      ]
    },
    {
      "cell_type": "code",
      "metadata": {
        "colab": {
          "base_uri": "https://localhost:8080/"
        },
        "id": "RAeb10wJWasZ",
        "outputId": "f5402cb9-1c1a-485c-dcb3-bbc143e7c1e8"
      },
      "source": [
        "for el in nlp.entity.labels:\n",
        "    print(el, \": \", spacy.explain(el))"
      ],
      "execution_count": null,
      "outputs": [
        {
          "output_type": "stream",
          "text": [
            "CARDINAL :  Numerals that do not fall under another type\n",
            "DATE :  Absolute or relative dates or periods\n",
            "EVENT :  Named hurricanes, battles, wars, sports events, etc.\n",
            "FAC :  Buildings, airports, highways, bridges, etc.\n",
            "GPE :  Countries, cities, states\n",
            "LANGUAGE :  Any named language\n",
            "LAW :  Named documents made into laws.\n",
            "LOC :  Non-GPE locations, mountain ranges, bodies of water\n",
            "MONEY :  Monetary values, including unit\n",
            "NORP :  Nationalities or religious or political groups\n",
            "ORDINAL :  \"first\", \"second\", etc.\n",
            "ORG :  Companies, agencies, institutions, etc.\n",
            "PERCENT :  Percentage, including \"%\"\n",
            "PERSON :  People, including fictional\n",
            "PRODUCT :  Objects, vehicles, foods, etc. (not services)\n",
            "QUANTITY :  Measurements, as of weight or distance\n",
            "TIME :  Times smaller than a day\n",
            "WORK_OF_ART :  Titles of books, songs, etc.\n"
          ],
          "name": "stdout"
        }
      ]
    },
    {
      "cell_type": "code",
      "metadata": {
        "id": "K620kf6_L0rE"
      },
      "source": [
        "\n",
        "# Labelmaps converted to CoNLL according to https://www.clips.uantwerpen.be/conll2003/ner/annotation.txt\n",
        "labelmap = {\n",
        "    'CARDINAL': 'out',\n",
        "    'DATE': 'out',\n",
        "    'EVENT': 'MISC',\n",
        "    'FAC': 'LOC',\n",
        "    'GPE': 'LOC',\n",
        "    'LANGUAGE': 'MISC',\n",
        "    'LAW': 'out',\n",
        "    'LOC': 'LOC',\n",
        "    'MONEY': 'out',\n",
        "    'NORP': 'MISC',\n",
        "    'ORDINAL': 'out',\n",
        "    'ORG': 'ORG',\n",
        "    'PERCENT': 'out',\n",
        "    'PERSON': 'PER',\n",
        "    'PRODUCT': 'out',\n",
        "    'QUANTITY': 'out',\n",
        "    'TIME': 'out',\n",
        "    'WORK_OF_ART': 'out',\n",
        "    '': 'out'\n",
        "}\n",
        "\n",
        "def convert_tag(tk:spacy.tokens.Token):\n",
        "    return (tk.ent_iob_ + ('-' + labelmap[tk.ent_type_])) if labelmap[tk.ent_type_] != 'out' else 'O'"
      ],
      "execution_count": null,
      "outputs": []
    },
    {
      "cell_type": "code",
      "metadata": {
        "id": "hUQ-GcvkOX3u"
      },
      "source": [
        "dataset = load_dataset('test')"
      ],
      "execution_count": null,
      "outputs": []
    },
    {
      "cell_type": "code",
      "metadata": {
        "colab": {
          "base_uri": "https://localhost:8080/"
        },
        "id": "xnZYneSIWf-t",
        "outputId": "b1616865-deb3-4e4a-bc68-d12bf71b8600"
      },
      "source": [
        "for sent, ents in zip(dataset['sentences'][:4], dataset['ners'][:4]):\n",
        "    print(\"Sentence: \", sent)\n",
        "    print(\"Ents: \", *ents, sep='\\n')\n",
        "    print(\"----------------------------\")"
      ],
      "execution_count": null,
      "outputs": [
        {
          "output_type": "stream",
          "text": [
            "Sentence:  SOCCER - JAPAN GET LUCKY WIN , CHINA IN SURPRISE DEFEAT .\n",
            "Ents: \n",
            "[('SOCCER', 'O')]\n",
            "[('-', 'O')]\n",
            "[('JAPAN', 'B-LOC')]\n",
            "[('GET', 'O')]\n",
            "[('LUCKY', 'O')]\n",
            "[('WIN', 'O')]\n",
            "[(',', 'O')]\n",
            "[('CHINA', 'B-PER')]\n",
            "[('IN', 'O')]\n",
            "[('SURPRISE', 'O')]\n",
            "[('DEFEAT', 'O')]\n",
            "[('.', 'O')]\n",
            "----------------------------\n",
            "Sentence:  Nadim Ladki\n",
            "Ents: \n",
            "[('Nadim', 'B-PER'), ('Ladki', 'I-PER')]\n",
            "----------------------------\n",
            "Sentence:  AL-AIN , United Arab Emirates 1996-12-06\n",
            "Ents: \n",
            "[('AL-AIN', 'B-LOC')]\n",
            "[(',', 'O')]\n",
            "[('United', 'B-LOC'), ('Arab', 'I-LOC'), ('Emirates', 'I-LOC')]\n",
            "[('1996-12-06', 'O')]\n",
            "----------------------------\n",
            "Sentence:  Japan began the defence of their Asian Cup title with a lucky 2-1 win against Syria in a Group C championship match on Friday .\n",
            "Ents: \n",
            "[('Japan', 'B-LOC')]\n",
            "[('began', 'O')]\n",
            "[('the', 'O')]\n",
            "[('defence', 'O')]\n",
            "[('of', 'O')]\n",
            "[('their', 'O')]\n",
            "[('Asian', 'B-MISC'), ('Cup', 'I-MISC')]\n",
            "[('title', 'O')]\n",
            "[('with', 'O')]\n",
            "[('a', 'O')]\n",
            "[('lucky', 'O')]\n",
            "[('2-1', 'O')]\n",
            "[('win', 'O')]\n",
            "[('against', 'O')]\n",
            "[('Syria', 'B-LOC')]\n",
            "[('in', 'O')]\n",
            "[('a', 'O')]\n",
            "[('Group', 'O')]\n",
            "[('C', 'O')]\n",
            "[('championship', 'O')]\n",
            "[('match', 'O')]\n",
            "[('on', 'O')]\n",
            "[('Friday', 'O')]\n",
            "[('.', 'O')]\n",
            "----------------------------\n"
          ],
          "name": "stdout"
        }
      ]
    },
    {
      "cell_type": "markdown",
      "metadata": {
        "id": "dG7mczCu4eRP"
      },
      "source": [
        "### 1) Evaluate spaCy NER model using CoNLL evaluation script on CoNLL 2003 data \n"
      ]
    },
    {
      "cell_type": "code",
      "metadata": {
        "id": "m7LPacoYhiJo"
      },
      "source": [
        "\n",
        "# Unique set of mapping labels to indexes (needed for sklearn.metrics.classification_report())\n",
        "# - (converted to dict for better performance, otherwise at each step would be needed list.index(token))\n",
        "__index_labels__ = [el[0] + el[1] for el in itertools.product(['B-', 'I-'], ['LOC', 'MISC', 'ORG', 'PER'])] + ['O']\n",
        "__index_labels__ = {lab: idx for lab,idx in zip(labels, range(len(labels)))}\n",
        "\n",
        "\n",
        "def get_accuracies(doc:spacy.tokens.Doc, ents:list, labels=__index_labels__):\n",
        "    gt_sent = [\n",
        "        # all tokens in a sentence\n",
        "        [enttoken[0] for ent in ents for enttoken in ent], \n",
        "        # relative entity tags \n",
        "        [enttoken[1] for ent in ents for enttoken in ent]\n",
        "    ]\n",
        "\n",
        "    # needed for part 1\n",
        "    preds = []\n",
        "    truths = []\n",
        "\n",
        "    # needed for part 2\n",
        "    parsed_sent = []\n",
        "    \n",
        "    # Multi-token entity container\n",
        "    tmpentity = ['', None]\n",
        "\n",
        "    for tk in doc:\n",
        "        # Init. variable that will be either token text or multi-token-entity concatenated tokens\n",
        "        text = None\n",
        "        \n",
        "        # label converted according to CoNLL standard (or 'O' when is not part of an entity)\n",
        "        conv_label = convert_tag(tk)\n",
        "\n",
        "        # MULTI-TOKEN ENTITY JOIN\n",
        "        if len(tk.whitespace_) == 0: # current multi-entity must be expanded\n",
        "            tmpentity[0] += tk.text\n",
        "            if tmpentity[1] is None: tmpentity[1] = conv_label\n",
        "            else:\n",
        "                if tmpentity[1] != conv_label:\n",
        "                    if tmpentity[1] == 'O' or conv_label == 'O':\n",
        "                        pass\n",
        "                    else:\n",
        "                        if tmpentity[1].split('-')[1] != conv_label.split('-')[1]: raise ValueError(\"not matching labels for sentence {}\".format(sent))\n",
        "            \n",
        "            if tk.i == (len(doc) - 1): # last multi-token entity of the sentence\n",
        "                text = tmpentity[0]\n",
        "                conv_label = tmpentity[1]\n",
        "                tmpentity = ['', None]\n",
        "            else:\n",
        "                continue\n",
        "        else:\n",
        "            if len(tmpentity[0]) > 0: # cached multi-token entity is finished\n",
        "                tmpentity[0] += tk.text\n",
        "                if tmpentity[1] != conv_label:\n",
        "                    # since there are very very few (5 in test.txt) cases where multi-token entities have different tags, a rough conversion is simply applied \n",
        "                    conv_label = tmpentity[1] \n",
        "                            \n",
        "                text = tmpentity[0]\n",
        "                conv_label = tmpentity[1]\n",
        "                tmpentity = ['', None]\n",
        "            else: # no multi-token entity cached\n",
        "                text = tk.text\n",
        "                conv_label = conv_label\n",
        "        \n",
        "        # finds correct index in sentence tokens\n",
        "        idx = gt_sent[0].index(text)\n",
        "        # finds corresponding ground truth\n",
        "        gt = gt_sent[1][idx]\n",
        "\n",
        "        # Part 1\n",
        "        preds.append(labels[conv_label])\n",
        "        truths.append(labels[gt])\n",
        "\n",
        "        # Part 2\n",
        "        parsed_sent.append((text, conv_label))\n",
        "    \n",
        "    return {'part1': {'preds': preds, 'truths': truths}, 'part2': parsed_sent}\n"
      ],
      "execution_count": null,
      "outputs": []
    },
    {
      "cell_type": "code",
      "metadata": {
        "id": "Yw6v9HOwMgs1"
      },
      "source": [
        "\n",
        "results ={\n",
        "    'part1': {'preds': [], 'truths': []},\n",
        "    'part2': []\n",
        "}\n",
        "\n",
        "\n",
        "for sent, ents in zip(dataset['sentences'], dataset['ners']):\n",
        "    doc = nlp(sent)\n",
        "    res = get_accuracies(doc, ents)\n",
        "    results['part1']['truths'].append(res['part1']['truths'])\n",
        "    results['part1']['preds'].append(res['part1']['preds'])\n",
        "    results['part2'].append(res['part2'])"
      ],
      "execution_count": null,
      "outputs": []
    },
    {
      "cell_type": "markdown",
      "metadata": {
        "id": "7YQiVzEJLszn"
      },
      "source": [
        "\n",
        "+ report token-level performance (per class and total)\n",
        "> + accuracy of correctly recognizing all tokens that belong to named entities (i.e. tag-level accuracy)\n"
      ]
    },
    {
      "cell_type": "code",
      "metadata": {
        "colab": {
          "base_uri": "https://localhost:8080/"
        },
        "id": "FTPsWrP2LvBE",
        "outputId": "796f8aae-e7ee-4f55-a4fc-5c53cef64af8"
      },
      "source": [
        "import sklearn\n",
        "from sklearn.metrics import classification_report\n",
        "\n",
        "print(classification_report(results['part1']['truths'], results['part1']['preds']))"
      ],
      "execution_count": null,
      "outputs": [
        {
          "output_type": "stream",
          "text": [
            "              precision    recall  f1-score   support\n",
            "\n",
            "           0       0.78      0.73      0.75      1666\n",
            "           1       0.80      0.56      0.66       706\n",
            "           2       0.52      0.34      0.41      1658\n",
            "           3       0.78      0.62      0.69      1615\n",
            "           4       0.53      0.59      0.56       257\n",
            "           5       0.59      0.37      0.46       214\n",
            "           6       0.43      0.53      0.47       812\n",
            "           7       0.73      0.77      0.75      1158\n",
            "           8       0.95      0.98      0.97     38349\n",
            "\n",
            "    accuracy                           0.91     46435\n",
            "   macro avg       0.68      0.61      0.64     46435\n",
            "weighted avg       0.91      0.91      0.91     46435\n",
            "\n"
          ],
          "name": "stdout"
        }
      ]
    },
    {
      "cell_type": "markdown",
      "metadata": {
        "id": "hy4rsfL0huMJ"
      },
      "source": [
        "\n",
        "+ report CoNLL chunk-level performance (per class and total); \n",
        "> + precision, recall, f-measure of correctly recognizing all the named entities in a chunk per class and total\n"
      ]
    },
    {
      "cell_type": "code",
      "metadata": {
        "id": "Z6GJPq_bYrPB",
        "colab": {
          "base_uri": "https://localhost:8080/",
          "height": 199
        },
        "outputId": "c473736e-673e-45dd-dca8-888f1bc50f6d"
      },
      "source": [
        "# Part 2\n",
        "\n",
        "import pandas as pd\n",
        "\n",
        "# Note: List comprehension needed to extract tokens from entities (separated in lists) inside dataset['ners']\n",
        "res = evaluate([[tk for ent in sent for tk in ent] for sent in dataset['ners']], results['part2'])\n",
        "pd_tbl = pd.DataFrame().from_dict(res, orient='index')\n",
        "pd_tbl.round(decimals=3)"
      ],
      "execution_count": null,
      "outputs": [
        {
          "output_type": "execute_result",
          "data": {
            "text/html": [
              "<div>\n",
              "<style scoped>\n",
              "    .dataframe tbody tr th:only-of-type {\n",
              "        vertical-align: middle;\n",
              "    }\n",
              "\n",
              "    .dataframe tbody tr th {\n",
              "        vertical-align: top;\n",
              "    }\n",
              "\n",
              "    .dataframe thead th {\n",
              "        text-align: right;\n",
              "    }\n",
              "</style>\n",
              "<table border=\"1\" class=\"dataframe\">\n",
              "  <thead>\n",
              "    <tr style=\"text-align: right;\">\n",
              "      <th></th>\n",
              "      <th>p</th>\n",
              "      <th>r</th>\n",
              "      <th>f</th>\n",
              "      <th>s</th>\n",
              "    </tr>\n",
              "  </thead>\n",
              "  <tbody>\n",
              "    <tr>\n",
              "      <th>PER</th>\n",
              "      <td>0.738</td>\n",
              "      <td>0.591</td>\n",
              "      <td>0.656</td>\n",
              "      <td>1617</td>\n",
              "    </tr>\n",
              "    <tr>\n",
              "      <th>ORG</th>\n",
              "      <td>0.463</td>\n",
              "      <td>0.298</td>\n",
              "      <td>0.363</td>\n",
              "      <td>1661</td>\n",
              "    </tr>\n",
              "    <tr>\n",
              "      <th>LOC</th>\n",
              "      <td>0.776</td>\n",
              "      <td>0.719</td>\n",
              "      <td>0.746</td>\n",
              "      <td>1668</td>\n",
              "    </tr>\n",
              "    <tr>\n",
              "      <th>MISC</th>\n",
              "      <td>0.783</td>\n",
              "      <td>0.548</td>\n",
              "      <td>0.645</td>\n",
              "      <td>702</td>\n",
              "    </tr>\n",
              "    <tr>\n",
              "      <th>total</th>\n",
              "      <td>0.690</td>\n",
              "      <td>0.537</td>\n",
              "      <td>0.604</td>\n",
              "      <td>5648</td>\n",
              "    </tr>\n",
              "  </tbody>\n",
              "</table>\n",
              "</div>"
            ],
            "text/plain": [
              "           p      r      f     s\n",
              "PER    0.738  0.591  0.656  1617\n",
              "ORG    0.463  0.298  0.363  1661\n",
              "LOC    0.776  0.719  0.746  1668\n",
              "MISC   0.783  0.548  0.645   702\n",
              "total  0.690  0.537  0.604  5648"
            ]
          },
          "metadata": {
            "tags": []
          },
          "execution_count": 14
        }
      ]
    },
    {
      "cell_type": "markdown",
      "metadata": {
        "id": "shrNV0XsF4b6"
      },
      "source": [
        "\n",
        "### 2) Grouping of Entities. Write a function to group recognized named entities using noun_chunks method of spaCy. Analyze the groups in terms of most frequent combinations (i.e. NER types that go together).\n",
        "\n"
      ]
    },
    {
      "cell_type": "code",
      "metadata": {
        "id": "MCjktX1Dg5qs"
      },
      "source": [
        "def group_ents(doc:spacy.tokens.Doc):\n",
        "\n",
        "    res = [] # current sentence\n",
        "    \n",
        "    noun_chunks = list(doc.noun_chunks)\n",
        "    entities = list(doc.ents)\n",
        "    \n",
        "    i = 0 # index for entities\n",
        "    j = 0 # index for noun_chunks\n",
        "    \n",
        "    # iterating jointly over entities and noun chunks\n",
        "    while i < len(entities) and j < len(noun_chunks):\n",
        "        \n",
        "        # if len(entities[i]) > len(noun_chunks[j]): raise ValueError(\"mismatch with ents {} and nchunks {}\".format(entities[i], noun_chunks[j]))\n",
        "\n",
        "        # forward check on outliers entities (outside noun_chunks)\n",
        "        if entities[i][0] not in noun_chunks[j]: # if 1st token is not in current nchunk\n",
        "            \n",
        "            if len(res) == 0 or len(res) > 0 and len(res[-1]) > 0: res.append([]) # start a new group, bc current one is expired\n",
        "\n",
        "            tmp = j\n",
        "            \n",
        "            while tmp < len(noun_chunks): # NOTE: supposing all items in entity belong to same noun chunk if they belong to one!!!\n",
        "                if entities[i][0] in noun_chunks[tmp]: break\n",
        "                else: tmp += 1\n",
        "\n",
        "            if tmp == len(noun_chunks): # entity is an outlier or current noun chunk does not contain entities\n",
        "                if len(res) > 0 and len(res[-1]) == 0: res[-1].append(entities[i][0].ent_type_) \n",
        "                else: res.append([entities[i][0].ent_type_])\n",
        "                res.append([]) # prepares new group (for subsequent eventually not outliers)\n",
        "                i += 1\n",
        "            else: pass # will be explored later\n",
        "        else:\n",
        "            if len(res) == 0: res.append([entities[i][0].ent_type_]) # meaning this is the first entity of a noun chunk | NOTE: supposing all items in entity have the same label!!!\n",
        "            else: res[-1].append(entities[i][0].ent_type_) # here i have already started a noun chunk, so i must append (--> actually a combination)\n",
        "            i += 1\n",
        "            j -= 1\n",
        "\n",
        "        j += 1\n",
        "    \n",
        "    return res"
      ],
      "execution_count": null,
      "outputs": []
    },
    {
      "cell_type": "code",
      "metadata": {
        "colab": {
          "base_uri": "https://localhost:8080/"
        },
        "id": "aOTd6oG4GsrY",
        "outputId": "1a293c73-5bb3-4662-fcc0-bf0ebb2148bc"
      },
      "source": [
        "res = []\n",
        "\n",
        "tmpdataset = dataset['sentences']\n",
        "\n",
        "for sent in tmpdataset:\n",
        "    doc = nlp(sent)\n",
        "    res.append(group_ents(doc))\n",
        "\n",
        "idx = -1\n",
        "print(tmpdataset[idx])\n",
        "print(res[idx])"
      ],
      "execution_count": null,
      "outputs": [
        {
          "output_type": "stream",
          "text": [
            "The lanky former Leeds United defender did not make his England debut until the age of 30 but eventually won 35 caps and was a key member of the 1966 World Cup winning team with his younger brother , Bobby .\n",
            "[['ORG'], ['GPE'], ['DATE'], ['CARDINAL'], ['DATE', 'EVENT'], ['PERSON']]\n"
          ],
          "name": "stdout"
        }
      ]
    },
    {
      "cell_type": "markdown",
      "metadata": {
        "id": "QkEtp8oIF8_1"
      },
      "source": [
        "### 3) One of the possible post-processing steps is to fix segmentation errors. Write a function that extends the entity span to cover the full noun-compounds. Make use of compound dependency relation."
      ]
    },
    {
      "cell_type": "code",
      "metadata": {
        "id": "J1tETWyQyaiD",
        "colab": {
          "base_uri": "https://localhost:8080/"
        },
        "outputId": "7f39510a-7d93-4873-f0a3-7bb307cf19b2"
      },
      "source": [
        "s = \"In 1202 year , so cold, so dark thoughts passed through Hamlet the Dutch's mind  .\"\n",
        "doc = nlp(s)\n",
        "ents = list(doc.ents)\n",
        "noun_chunks = list(doc.noun_chunks)\n",
        "\n",
        "print(ents)\n",
        "print(noun_chunks)"
      ],
      "execution_count": null,
      "outputs": [
        {
          "output_type": "stream",
          "text": [
            "[1202 year, Hamlet, Dutch]\n",
            "[1202 year, so cold, so dark thoughts, Hamlet, the Dutch's mind]\n"
          ],
          "name": "stdout"
        }
      ]
    },
    {
      "cell_type": "markdown",
      "metadata": {
        "id": "Nad8BE_UybEF"
      },
      "source": [
        "### Utilities"
      ]
    },
    {
      "cell_type": "code",
      "metadata": {
        "id": "CDquLvZmrhSR"
      },
      "source": [
        "print(\"From load(): \", len(dataset['sentences']))\n",
        "print(\"From read_corpus_conll(): \", len(read_corpus_conll('/content/data/test.txt')))"
      ],
      "execution_count": null,
      "outputs": []
    },
    {
      "cell_type": "code",
      "metadata": {
        "id": "-Pq8rE9aNjtx"
      },
      "source": [
        "# here i show that my loading method works perfectly\n",
        "i = 0\n",
        "for sent in read_corpus_conll('/content/data/test.txt'):\n",
        "    if sent[0][0] == '-DOCSTART- -X- -X- O':\n",
        "        i += 1\n",
        "print(i)\n",
        "print(len(read_corpus_conll('/content/data/test.txt')) - len(dataset['sentences']))"
      ],
      "execution_count": null,
      "outputs": []
    }
  ]
}